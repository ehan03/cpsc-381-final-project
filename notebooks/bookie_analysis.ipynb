{
 "cells": [
  {
   "cell_type": "markdown",
   "metadata": {},
   "source": [
    "# Bookmakers' Odds Analysis"
   ]
  },
  {
   "cell_type": "code",
   "execution_count": 10,
   "metadata": {},
   "outputs": [],
   "source": [
    "import sqlite3\n",
    "\n",
    "import pandas as pd\n",
    "from sklearn.calibration import CalibrationDisplay\n",
    "from sklearn.metrics import log_loss, roc_auc_score"
   ]
  },
  {
   "cell_type": "markdown",
   "metadata": {},
   "source": [
    "The test set for our model will consist of fights that occurred between 2022 and 2024 (up to when the dataset was created) in which both fighters had at least 1 fight in the UFC, so we will analyze the bookmakers' performance for these same fights to get some points of comparison. Since draws and no contests void the bets, we will only consider fights that had a winner.\n",
    "\n",
    "NOTE: For backtesting later, we *will* consider fights that ended in draws and no contests as well to simulate voided bets."
   ]
  },
  {
   "cell_type": "markdown",
   "metadata": {},
   "source": [
    "### Obtain Market-Implied Probabilities"
   ]
  },
  {
   "cell_type": "code",
   "execution_count": 11,
   "metadata": {},
   "outputs": [],
   "source": [
    "conn = sqlite3.connect(\"../data/ufcstats.db\")\n",
    "conn.execute(\"ATTACH DATABASE '../data/fightoddsio.db' AS fightoddsio\")\n",
    "\n",
    "df = pd.read_sql(\n",
    "    \"\"\"\n",
    "    WITH bout_num_by_fighter AS (\n",
    "      SELECT \n",
    "        *, \n",
    "        ROW_NUMBER() OVER(\n",
    "          PARTITION BY FIGHTER_ID \n",
    "          ORDER BY \n",
    "            DATE, \n",
    "            EVENT_ID, \n",
    "            BOUT_ORDINAL\n",
    "        ) AS BOUT_NUMBER \n",
    "      FROM \n",
    "        (\n",
    "          SELECT \n",
    "            BOUT_ID, \n",
    "            EVENT_ID, \n",
    "            DATE, \n",
    "            BOUT_ORDINAL, \n",
    "            RED_FIGHTER_ID AS FIGHTER_ID \n",
    "          FROM \n",
    "            main.UFCSTATS_BOUTS_OVERALL \n",
    "          UNION ALL \n",
    "          SELECT \n",
    "            BOUT_ID, \n",
    "            EVENT_ID, \n",
    "            DATE, \n",
    "            BOUT_ORDINAL, \n",
    "            BLUE_FIGHTER_ID AS FIGHTER_ID \n",
    "          FROM \n",
    "            main.UFCSTATS_BOUTS_OVERALL\n",
    "        ) \n",
    "      ORDER BY \n",
    "        DATE, \n",
    "        EVENT_ID, \n",
    "        BOUT_ORDINAL\n",
    "    ), \n",
    "    bouts_test AS (\n",
    "      SELECT \n",
    "        t1.BOUT_ID, \n",
    "        t1.EVENT_ID, \n",
    "        t1.RED_FIGHTER_ID, \n",
    "        t1.BLUE_FIGHTER_ID, \n",
    "        t1.BOUT_ORDINAL, \n",
    "        t1.DATE, \n",
    "        CASE t1.RED_OUTCOME WHEN 'W' THEN 1 WHEN 'L' THEN 0 ELSE NULL END AS RED_WIN \n",
    "      FROM \n",
    "        main.UFCSTATS_BOUTS_OVERALL AS t1 \n",
    "        LEFT JOIN bout_num_by_fighter AS t2 ON t1.RED_FIGHTER_ID = t2.FIGHTER_ID \n",
    "        AND t1.BOUT_ID = t2.BOUT_ID \n",
    "        LEFT JOIN bout_num_by_fighter AS t3 ON t1.BLUE_FIGHTER_ID = t3.FIGHTER_ID \n",
    "        AND t1.BOUT_ID = t3.BOUT_ID \n",
    "      WHERE \n",
    "        t2.BOUT_NUMBER > 1 \n",
    "        AND t3.BOUT_NUMBER > 1 \n",
    "        AND t1.DATE >= '2022-01-01' \n",
    "        AND RED_WIN IS NOT NULL \n",
    "      ORDER BY \n",
    "        t1.DATE, \n",
    "        t1.BOUT_ORDINAL\n",
    "    ) \n",
    "    SELECT \n",
    "      t1.BOUT_ID, \n",
    "      t1.DATE, \n",
    "      t1.EVENT_ID, \n",
    "      t1.BOUT_ORDINAL, \n",
    "      t5.FIGHTER_1_ODDS AS RED_FIGHTER_ODDS, \n",
    "      t5.FIGHTER_2_ODDS AS BLUE_FIGHTER_ODDS, \n",
    "      t1.RED_WIN \n",
    "    FROM \n",
    "      bouts_test AS t1 \n",
    "      INNER JOIN fightoddsio.FIGHTODDSIO_EVENT_LINKAGE AS t2 ON t1.EVENT_ID = t2.UFCSTATS_EVENT_ID \n",
    "      INNER JOIN fightoddsio.FIGHTODDSIO_FIGHTER_LINKAGE AS t3 ON t1.RED_FIGHTER_ID = t3.UFCSTATS_FIGHTER_ID \n",
    "      INNER JOIN fightoddsio.FIGHTODDSIO_FIGHTER_LINKAGE AS t4 ON t1.BLUE_FIGHTER_ID = t4.UFCSTATS_FIGHTER_ID \n",
    "      INNER JOIN fightoddsio.FIGHTODDSIO_BOUTS AS t5 ON t2.FIGHTODDSIO_EVENT_SLUG = t5.EVENT_SLUG \n",
    "      AND t3.FIGHTODDSIO_FIGHTER_ID = t5.FIGHTER_1_ID \n",
    "      AND t4.FIGHTODDSIO_FIGHTER_ID = t5.FIGHTER_2_ID \n",
    "    UNION ALL \n",
    "    SELECT \n",
    "      t1.BOUT_ID, \n",
    "      t1.DATE, \n",
    "      t1.EVENT_ID, \n",
    "      t1.BOUT_ORDINAL, \n",
    "      t5.FIGHTER_2_ODDS AS RED_FIGHTER_ODDS, \n",
    "      t5.FIGHTER_1_ODDS AS BLUE_FIGHTER_ODDS, \n",
    "      t1.RED_WIN \n",
    "    FROM \n",
    "      bouts_test AS t1 \n",
    "      INNER JOIN fightoddsio.FIGHTODDSIO_EVENT_LINKAGE AS t2 ON t1.EVENT_ID = t2.UFCSTATS_EVENT_ID \n",
    "      INNER JOIN fightoddsio.FIGHTODDSIO_FIGHTER_LINKAGE AS t3 ON t1.RED_FIGHTER_ID = t3.UFCSTATS_FIGHTER_ID \n",
    "      INNER JOIN fightoddsio.FIGHTODDSIO_FIGHTER_LINKAGE AS t4 ON t1.BLUE_FIGHTER_ID = t4.UFCSTATS_FIGHTER_ID \n",
    "      INNER JOIN fightoddsio.FIGHTODDSIO_BOUTS AS t5 ON t2.FIGHTODDSIO_EVENT_SLUG = t5.EVENT_SLUG \n",
    "      AND t3.FIGHTODDSIO_FIGHTER_ID = t5.FIGHTER_2_ID \n",
    "      AND t4.FIGHTODDSIO_FIGHTER_ID = t5.FIGHTER_1_ID \n",
    "    ORDER BY \n",
    "      t1.DATE, \n",
    "      t1.EVENT_ID, \n",
    "      t1.BOUT_ORDINAL;\n",
    "    \"\"\",\n",
    "    conn,\n",
    ")[[\"BOUT_ID\", \"DATE\", \"RED_FIGHTER_ODDS\", \"BLUE_FIGHTER_ODDS\", \"RED_WIN\"]]\n",
    "\n",
    "conn.close()"
   ]
  },
  {
   "cell_type": "code",
   "execution_count": 12,
   "metadata": {},
   "outputs": [
    {
     "data": {
      "text/html": [
       "<div>\n",
       "<style scoped>\n",
       "    .dataframe tbody tr th:only-of-type {\n",
       "        vertical-align: middle;\n",
       "    }\n",
       "\n",
       "    .dataframe tbody tr th {\n",
       "        vertical-align: top;\n",
       "    }\n",
       "\n",
       "    .dataframe thead th {\n",
       "        text-align: right;\n",
       "    }\n",
       "</style>\n",
       "<table border=\"1\" class=\"dataframe\">\n",
       "  <thead>\n",
       "    <tr style=\"text-align: right;\">\n",
       "      <th></th>\n",
       "      <th>BOUT_ID</th>\n",
       "      <th>DATE</th>\n",
       "      <th>RED_FIGHTER_ODDS</th>\n",
       "      <th>BLUE_FIGHTER_ODDS</th>\n",
       "      <th>RED_WIN</th>\n",
       "    </tr>\n",
       "  </thead>\n",
       "  <tbody>\n",
       "    <tr>\n",
       "      <th>0</th>\n",
       "      <td>3a8c0158d910546d</td>\n",
       "      <td>2022-01-15</td>\n",
       "      <td>1.469937</td>\n",
       "      <td>2.743333</td>\n",
       "      <td>1</td>\n",
       "    </tr>\n",
       "    <tr>\n",
       "      <th>1</th>\n",
       "      <td>7c2a02b5ea169b54</td>\n",
       "      <td>2022-01-15</td>\n",
       "      <td>1.261991</td>\n",
       "      <td>3.975000</td>\n",
       "      <td>1</td>\n",
       "    </tr>\n",
       "    <tr>\n",
       "      <th>2</th>\n",
       "      <td>3738135e4c9d8273</td>\n",
       "      <td>2022-01-15</td>\n",
       "      <td>2.028730</td>\n",
       "      <td>1.796695</td>\n",
       "      <td>1</td>\n",
       "    </tr>\n",
       "    <tr>\n",
       "      <th>3</th>\n",
       "      <td>f9a4e625dffc30d4</td>\n",
       "      <td>2022-01-15</td>\n",
       "      <td>1.462680</td>\n",
       "      <td>2.793333</td>\n",
       "      <td>1</td>\n",
       "    </tr>\n",
       "    <tr>\n",
       "      <th>4</th>\n",
       "      <td>8d89f3b8798f444d</td>\n",
       "      <td>2022-01-15</td>\n",
       "      <td>1.629805</td>\n",
       "      <td>2.316667</td>\n",
       "      <td>1</td>\n",
       "    </tr>\n",
       "  </tbody>\n",
       "</table>\n",
       "</div>"
      ],
      "text/plain": [
       "            BOUT_ID        DATE  RED_FIGHTER_ODDS  BLUE_FIGHTER_ODDS  RED_WIN\n",
       "0  3a8c0158d910546d  2022-01-15          1.469937           2.743333        1\n",
       "1  7c2a02b5ea169b54  2022-01-15          1.261991           3.975000        1\n",
       "2  3738135e4c9d8273  2022-01-15          2.028730           1.796695        1\n",
       "3  f9a4e625dffc30d4  2022-01-15          1.462680           2.793333        1\n",
       "4  8d89f3b8798f444d  2022-01-15          1.629805           2.316667        1"
      ]
     },
     "execution_count": 12,
     "metadata": {},
     "output_type": "execute_result"
    }
   ],
   "source": [
    "df.head()"
   ]
  },
  {
   "cell_type": "markdown",
   "metadata": {},
   "source": [
    "We will compute the market implied probabilities for each fight by converting the average decimal odds to probabilities and removing the bookmakers' margin."
   ]
  },
  {
   "cell_type": "code",
   "execution_count": 13,
   "metadata": {},
   "outputs": [
    {
     "data": {
      "text/html": [
       "<div>\n",
       "<style scoped>\n",
       "    .dataframe tbody tr th:only-of-type {\n",
       "        vertical-align: middle;\n",
       "    }\n",
       "\n",
       "    .dataframe tbody tr th {\n",
       "        vertical-align: top;\n",
       "    }\n",
       "\n",
       "    .dataframe thead th {\n",
       "        text-align: right;\n",
       "    }\n",
       "</style>\n",
       "<table border=\"1\" class=\"dataframe\">\n",
       "  <thead>\n",
       "    <tr style=\"text-align: right;\">\n",
       "      <th></th>\n",
       "      <th>BOUT_ID</th>\n",
       "      <th>RED_PROB_IMPLIED</th>\n",
       "      <th>RED_WIN</th>\n",
       "    </tr>\n",
       "  </thead>\n",
       "  <tbody>\n",
       "    <tr>\n",
       "      <th>0</th>\n",
       "      <td>3a8c0158d910546d</td>\n",
       "      <td>0.651117</td>\n",
       "      <td>1</td>\n",
       "    </tr>\n",
       "    <tr>\n",
       "      <th>1</th>\n",
       "      <td>7c2a02b5ea169b54</td>\n",
       "      <td>0.759024</td>\n",
       "      <td>1</td>\n",
       "    </tr>\n",
       "    <tr>\n",
       "      <th>2</th>\n",
       "      <td>3738135e4c9d8273</td>\n",
       "      <td>0.469672</td>\n",
       "      <td>1</td>\n",
       "    </tr>\n",
       "    <tr>\n",
       "      <th>3</th>\n",
       "      <td>f9a4e625dffc30d4</td>\n",
       "      <td>0.656326</td>\n",
       "      <td>1</td>\n",
       "    </tr>\n",
       "    <tr>\n",
       "      <th>4</th>\n",
       "      <td>8d89f3b8798f444d</td>\n",
       "      <td>0.587022</td>\n",
       "      <td>1</td>\n",
       "    </tr>\n",
       "  </tbody>\n",
       "</table>\n",
       "</div>"
      ],
      "text/plain": [
       "            BOUT_ID  RED_PROB_IMPLIED  RED_WIN\n",
       "0  3a8c0158d910546d          0.651117        1\n",
       "1  7c2a02b5ea169b54          0.759024        1\n",
       "2  3738135e4c9d8273          0.469672        1\n",
       "3  f9a4e625dffc30d4          0.656326        1\n",
       "4  8d89f3b8798f444d          0.587022        1"
      ]
     },
     "execution_count": 13,
     "metadata": {},
     "output_type": "execute_result"
    }
   ],
   "source": [
    "# Convert decimal odds to probability\n",
    "df2 = df.copy()\n",
    "df2[\"RED_PROB_VIG\"] = 1 / df2[\"RED_FIGHTER_ODDS\"]\n",
    "df2[\"BLUE_PROB_VIG\"] = 1 / df2[\"BLUE_FIGHTER_ODDS\"]\n",
    "\n",
    "# Calculate implied probability\n",
    "df2[\"RED_PROB_IMPLIED\"] = df2[\"RED_PROB_VIG\"] / (\n",
    "    df2[\"RED_PROB_VIG\"] + df2[\"BLUE_PROB_VIG\"]\n",
    ")\n",
    "\n",
    "df2 = df2[[\"BOUT_ID\", \"RED_PROB_IMPLIED\", \"RED_WIN\"]]\n",
    "df2.head()"
   ]
  },
  {
   "cell_type": "markdown",
   "metadata": {},
   "source": [
    "### Evaluate Bookmakers' Performance"
   ]
  },
  {
   "cell_type": "code",
   "execution_count": 14,
   "metadata": {},
   "outputs": [
    {
     "data": {
      "text/plain": [
       "0.610120393077667"
      ]
     },
     "execution_count": 14,
     "metadata": {},
     "output_type": "execute_result"
    }
   ],
   "source": [
    "# Calculate log loss\n",
    "log_loss(df2[\"RED_WIN\"], df2[\"RED_PROB_IMPLIED\"])"
   ]
  },
  {
   "cell_type": "code",
   "execution_count": 15,
   "metadata": {},
   "outputs": [
    {
     "data": {
      "text/plain": [
       "0.7183800942043825"
      ]
     },
     "execution_count": 15,
     "metadata": {},
     "output_type": "execute_result"
    }
   ],
   "source": [
    "# Calculate AUC\n",
    "roc_auc_score(df2[\"RED_WIN\"], df2[\"RED_PROB_IMPLIED\"])"
   ]
  },
  {
   "cell_type": "code",
   "execution_count": 16,
   "metadata": {},
   "outputs": [
    {
     "data": {
      "image/png": "[encoded data removed]",
      "text/plain": [
       "<Figure size 640x480 with 1 Axes>"
      ]
     },
     "metadata": {},
     "output_type": "display_data"
    }
   ],
   "source": [
    "# Calibration curve\n",
    "disp = CalibrationDisplay.from_predictions(\n",
    "    df2[\"RED_WIN\"], df2[\"RED_PROB_IMPLIED\"], n_bins=10\n",
    ")"
   ]
  },
  {
   "cell_type": "markdown",
   "metadata": {},
   "source": [
    "In general, the betting market is extremely efficient based on the closing odds; moreover, the decimal odds in the data above correspond to an averaging across multiple bookmakers, so we expect the implied probabilities to be even more accurate than any single bookmaker's odds. As such, these numbers represent an unattainable ideal for our model to strive for. However, if one were to bet much earlier than the closing odds, there may be some value to be found."
   ]
  }
 ],
 "metadata": {
  "kernelspec": {
   "display_name": "cpsc381-ufc",
   "language": "python",
   "name": "python3"
  },
  "language_info": {
   "codemirror_mode": {
    "name": "ipython",
    "version": 3
   },
   "file_extension": ".py",
   "mimetype": "text/x-python",
   "name": "python",
   "nbconvert_exporter": "python",
   "pygments_lexer": "ipython3",
   "version": "3.8.18"
  }
 },
 "nbformat": 4,
 "nbformat_minor": 2
}
